{
  "nbformat": 4,
  "nbformat_minor": 0,
  "metadata": {
    "kernelspec": {
      "display_name": "Python 3",
      "language": "python",
      "name": "python3"
    },
    "language_info": {
      "codemirror_mode": {
        "name": "ipython",
        "version": 3
      },
      "file_extension": ".py",
      "mimetype": "text/x-python",
      "name": "python",
      "nbconvert_exporter": "python",
      "pygments_lexer": "ipython3",
      "version": "3.6.9"
    },
    "colab": {
      "name": "Preprocess_train_test.ipynb",
      "provenance": [],
      "collapsed_sections": []
    }
  },
  "cells": [
    {
      "cell_type": "code",
      "metadata": {
        "id": "zicFv_RjShvq"
      },
      "source": [
        "import pandas as pd\n",
        "from collections import Counter\n",
        "import numpy as np\n",
        "from matplotlib import pyplot as plt\n"
      ],
      "execution_count": 1,
      "outputs": []
    },
    {
      "cell_type": "code",
      "metadata": {
        "id": "ttE-VHMYShvy"
      },
      "source": [
        "app_train = pd.read_csv('HW_2_logistic_regression/application_train.csv')\n",
        "app_test = pd.read_csv('HW_2_logistic_regression/application_test.csv')"
      ],
      "execution_count": 22,
      "outputs": []
    },
    {
      "cell_type": "code",
      "metadata": {
        "id": "bY8XrLa-Shv5"
      },
      "source": [
        "# функция для просмотра топ фичей по пропущенным значениям\n",
        "def show_top_n_columns_by_missing_values(data, n):\n",
        "  data = (data.isnull().sum() / len(data)) * 100\n",
        "  data = data.drop(data[data == 0].index).sort_values(ascending=False)[:30]\n",
        "  missing_data = pd.DataFrame({'Missing Ratio' :data})\n",
        "  print(missing_data.head(n))\n",
        "\n",
        "\n",
        "ntrain = app_train.shape[0]\n",
        "ntest = app_test.shape[0]\n",
        "# сохраним target в отдельную переменную\n",
        "y_train = app_train['TARGET']\n",
        "app_train.drop(['TARGET'], axis=1, inplace=True)\n",
        "# объединим датасеты для дальнейших преобразований\n",
        "united_app = pd.concat((app_test, app_train)).reset_index(drop=True)"
      ],
      "execution_count": 23,
      "outputs": []
    },
    {
      "cell_type": "code",
      "metadata": {
        "id": "N29_4c06cpDW",
        "outputId": "1b5189fb-3a84-4034-cee6-f34bdad4c419",
        "colab": {
          "base_uri": "https://localhost:8080/",
          "height": 289
        }
      },
      "source": [
        "show_top_n_columns_by_missing_values(united_app, 15)"
      ],
      "execution_count": 9,
      "outputs": [
        {
          "output_type": "stream",
          "text": [
            "                          Missing Ratio\n",
            "COMMONAREA_MEDI               69.714109\n",
            "COMMONAREA_AVG                69.714109\n",
            "COMMONAREA_MODE               69.714109\n",
            "NONLIVINGAPARTMENTS_AVG       69.293343\n",
            "NONLIVINGAPARTMENTS_MODE      69.293343\n",
            "NONLIVINGAPARTMENTS_MEDI      69.293343\n",
            "FONDKAPREMONT_MODE            68.235393\n",
            "LIVINGAPARTMENTS_AVG          68.203674\n",
            "LIVINGAPARTMENTS_MEDI         68.203674\n",
            "LIVINGAPARTMENTS_MODE         68.203674\n",
            "FLOORSMIN_AVG                 67.678489\n",
            "FLOORSMIN_MODE                67.678489\n",
            "FLOORSMIN_MEDI                67.678489\n",
            "YEARS_BUILD_AVG               66.330578\n",
            "YEARS_BUILD_MEDI              66.330578\n"
          ],
          "name": "stdout"
        }
      ]
    },
    {
      "cell_type": "code",
      "metadata": {
        "id": "wd_rcGf4eGo_",
        "outputId": "d0a5fcb8-eb1b-4880-cac1-2917b96699c7",
        "colab": {
          "base_uri": "https://localhost:8080/",
          "height": 170
        }
      },
      "source": [
        "print(united_app['COMMONAREA_MEDI'].corr(united_app['COMMONAREA_AVG']), united_app['COMMONAREA_MEDI'].corr(united_app['COMMONAREA_MODE']))\n",
        "print(united_app['NONLIVINGAPARTMENTS_AVG'].corr(united_app['NONLIVINGAPARTMENTS_MODE']), united_app['NONLIVINGAPARTMENTS_AVG'].corr(united_app['NONLIVINGAPARTMENTS_MEDI']))\n",
        "print(united_app['LIVINGAPARTMENTS_AVG'].corr(united_app['LIVINGAPARTMENTS_MEDI']), united_app['LIVINGAPARTMENTS_AVG'].corr(united_app['LIVINGAPARTMENTS_MODE']))\n",
        "print(united_app['FLOORSMIN_AVG'].corr(united_app['FLOORSMIN_MODE']), united_app['FLOORSMIN_AVG'].corr(united_app['FLOORSMIN_MEDI']))\n",
        "print(united_app['YEARS_BUILD_AVG'].corr(united_app['YEARS_BUILD_MEDI']), united_app['YEARS_BUILD_AVG'].corr(united_app['YEARS_BUILD_MODE']))\n",
        "print(united_app['LANDAREA_AVG'].corr(united_app['LANDAREA_MEDI']), united_app['LANDAREA_AVG'].corr(united_app['LANDAREA_MODE']))\n",
        "print(united_app['BASEMENTAREA_MODE'].corr(united_app['BASEMENTAREA_AVG']), united_app['BASEMENTAREA_MODE'].corr(united_app['BASEMENTAREA_MEDI']))\n",
        "print(united_app['NONLIVINGAREA_AVG'].corr(united_app['NONLIVINGAREA_MODE']), united_app['NONLIVINGAREA_AVG'].corr(united_app['NONLIVINGAREA_MEDI']))\n",
        "print(united_app['ELEVATORS_MODE'].corr(united_app['ELEVATORS_MEDI']), united_app['ELEVATORS_MODE'].corr(united_app['ELEVATORS_AVG']))"
      ],
      "execution_count": 10,
      "outputs": [
        {
          "output_type": "stream",
          "text": [
            "0.9959329235120458 0.980136930665965\n",
            "0.9683450071217975 0.9896612412984713\n",
            "0.9943145612248373 0.9704704417360147\n",
            "0.985816791206454 0.997197184331415\n",
            "0.9985402212980031 0.989593303868515\n",
            "0.9916085351291151 0.9745284740539331\n",
            "0.9721298168563488 0.9768628143708254\n",
            "0.9677614124304057 0.9912276320806473\n",
            "0.9833317033353872 0.9792245723691423\n"
          ],
          "name": "stdout"
        }
      ]
    },
    {
      "cell_type": "markdown",
      "metadata": {
        "id": "4hhH7NLLgHKB"
      },
      "source": [
        "Как видим, подобные признаки сильно коррелируют, поэтому заменим 3 на 1, являющийся просто средним среди 3"
      ]
    },
    {
      "cell_type": "code",
      "metadata": {
        "id": "vJJ4NDsQijFS"
      },
      "source": [
        "def change_correlated_features_on_avg(feature_names):\n",
        "  for name in feature_names:\n",
        "    try:\n",
        "      united_app[name+'_AVG'] = (united_app[name+'_AVG'] + united_app[name+'_MODE'] + united_app[name+'_MEDI'])/3\n",
        "      united_app.drop([name+'_MODE', name+'_MEDI'], axis=1, inplace=True)\n",
        "    except:\n",
        "      pass\n",
        "feature_names_to_be_replaced_on_avg = ['COMMONAREA', 'NONLIVINGAPARTMENTS', 'LIVINGAPARTMENTS',\n",
        "                                       'FLOORSMIN', 'YEARS_BUILD', 'LANDAREA', 'BASEMENTAREA',\n",
        "                                       'NONLIVINGAREA', 'ELEVATORS', 'APARTMENTS', \n",
        "                                       'ENTRANCES', 'LIVINGAREA', 'FLOORSMAX', \n",
        "                                       'YEARS_BEGINEXPLUATATION']\n",
        "\n",
        "change_correlated_features_on_avg(feature_names=feature_names_to_be_replaced_on_avg)"
      ],
      "execution_count": 11,
      "outputs": []
    },
    {
      "cell_type": "code",
      "metadata": {
        "id": "rmXfTa8sxS-T"
      },
      "source": [
        "# заполним nan у категориальных признаков рандомно согласно исходному распределению\n",
        "def fill_cat_features_with_random_value(data, column_names):\n",
        "  for column_name in column_names:\n",
        "    dict_without_nan = dict(Counter(data[~ pd.isna(data[column_name])][column_name]))\n",
        "    values = list(dict_without_nan.keys())\n",
        "    probabilities = [value/sum(dict_without_nan.values()) for value in dict_without_nan.values()]\n",
        "    data.loc[pd.isna(data[column_name]), [column_name]] = data[pd.isna(data[column_name])].apply(lambda row: np.random.choice(values, p=probabilities), axis=1)\n",
        "\n",
        "fill_cat_features_with_random_value(united_app, ['NAME_TYPE_SUITE', 'OCCUPATION_TYPE', 'EMERGENCYSTATE_MODE',\n",
        "                                                 'FONDKAPREMONT_MODE', 'HOUSETYPE_MODE', 'WALLSMATERIAL_MODE'])"
      ],
      "execution_count": 13,
      "outputs": []
    },
    {
      "cell_type": "code",
      "metadata": {
        "id": "xWVpsmKeDUT5"
      },
      "source": [
        "# уберем некоторые признаки -- у некоторых все заполнено одним значением, у других одинаковые распределение между классов\n",
        "united_app.drop(['COMMONAREA_AVG', 'NONLIVINGAPARTMENTS_AVG', 'LIVINGAPARTMENTS_AVG',\n",
        "                 'FLOORSMIN_AVG', 'YEARS_BUILD_AVG', 'YEARS_BEGINEXPLUATATION_AVG', \n",
        "                 'AMT_REQ_CREDIT_BUREAU_QRT', 'AMT_REQ_CREDIT_BUREAU_YEAR', 'AMT_REQ_CREDIT_BUREAU_HOUR',\n",
        "                 'AMT_REQ_CREDIT_BUREAU_DAY', 'AMT_REQ_CREDIT_BUREAU_WEEK', 'AMT_REQ_CREDIT_BUREAU_MON',\n",
        "                 'OBS_30_CNT_SOCIAL_CIRCLE', 'DEF_30_CNT_SOCIAL_CIRCLE', 'OBS_60_CNT_SOCIAL_CIRCLE', \n",
        "                 'DEF_60_CNT_SOCIAL_CIRCLE'], axis=1, inplace=True)"
      ],
      "execution_count": 14,
      "outputs": []
    },
    {
      "cell_type": "code",
      "metadata": {
        "id": "eaJWETYJHHz4"
      },
      "source": [
        "# заменим числовые пропуски\n",
        "united_app['EXT_SOURCE_1'] = united_app['EXT_SOURCE_1'].fillna(united_app['EXT_SOURCE_1'].mean())\n",
        "united_app['EXT_SOURCE_3'] = united_app['EXT_SOURCE_3'].fillna(united_app['EXT_SOURCE_3'].mean())\n",
        "united_app['EXT_SOURCE_2'] = united_app['EXT_SOURCE_2'].fillna(united_app['EXT_SOURCE_2'].median())\n",
        "united_app['AMT_GOODS_PRICE'] = united_app['AMT_GOODS_PRICE'].fillna(united_app['AMT_GOODS_PRICE'].median())\n",
        "united_app['AMT_ANNUITY'] = united_app['AMT_ANNUITY'].fillna(united_app['AMT_ANNUITY'].median())\n",
        "united_app['CNT_FAM_MEMBERS'] = united_app['CNT_FAM_MEMBERS'].fillna(united_app['CNT_FAM_MEMBERS'].mean())\n",
        "united_app['DAYS_LAST_PHONE_CHANGE'] = united_app['DAYS_LAST_PHONE_CHANGE'].fillna(united_app['DAYS_LAST_PHONE_CHANGE'].mean())"
      ],
      "execution_count": 15,
      "outputs": []
    },
    {
      "cell_type": "markdown",
      "metadata": {
        "id": "zHJru-W34sMk"
      },
      "source": [
        "Сделаем из признака 'own_car_age' новый -- см. код ниже\n",
        "\n"
      ]
    },
    {
      "cell_type": "code",
      "metadata": {
        "id": "YBIjf_-G8aB-"
      },
      "source": [
        "cars_age = united_app['OWN_CAR_AGE']\n",
        "for i in range(len(cars_age)):\n",
        "  if np.isnan(cars_age[i]):\n",
        "    pass\n",
        "  else:\n",
        "    if cars_age[i] == 0:\n",
        "      cars_age[i] = 'no_car'\n",
        "    elif 0 < cars_age[i] <= 3:\n",
        "      cars_age[i] = 'new_car'\n",
        "    elif 3 < cars_age[i] <= 5:\n",
        "      cars_age[i] = 'almost_new'\n",
        "    elif 5 < cars_age[i] <= 10:\n",
        "      cars_age[i] = 'casual'\n",
        "    elif 10 < cars_age[i] <= 15:\n",
        "      cars_age[i] = 'almost_old'\n",
        "    else:\n",
        "      cars_age[i] = 'old'\n",
        "      "
      ],
      "execution_count": 24,
      "outputs": []
    },
    {
      "cell_type": "code",
      "metadata": {
        "id": "C458KlwTko2O",
        "outputId": "7aa72ba1-9819-4a94-837c-8042b9f6f8cd",
        "colab": {
          "base_uri": "https://localhost:8080/",
          "height": 266
        }
      },
      "source": [
        "fill_cat_features_with_random_value(united_app, ['OWN_CAR_AGE'])\n",
        "plt.hist(united_app['OWN_CAR_AGE'], bins=50);"
      ],
      "execution_count": 25,
      "outputs": [
        {
          "output_type": "display_data",
          "data": {
            "image/png": "[encoded data removed]",
            "text/plain": [
              "<Figure size 432x288 with 1 Axes>"
            ]
          },
          "metadata": {
            "tags": [],
            "needs_background": "light"
          }
        }
      ]
    },
    {
      "cell_type": "markdown",
      "metadata": {
        "id": "k7SeD6h-5Pvj"
      },
      "source": [
        "Аналогично сделаем дргуие новые признаки\n"
      ]
    },
    {
      "cell_type": "code",
      "metadata": {
        "id": "bLGNNsqIERF9"
      },
      "source": [
        "land = united_app['LANDAREA_AVG']\n",
        "for i in range(len(land)):\n",
        "  if np.isnan(land[i]):\n",
        "    pass\n",
        "  else:\n",
        "    if land[i] < 0.02:\n",
        "      land[i] = 'no_land'\n",
        "    elif 0.02 <= land[i] < 0.1:\n",
        "      land[i] = 'has_land'\n",
        "    elif land[i] >= 0.1:\n",
        "      land[i] = 'has_alotof_land'\n",
        "\n",
        "base_area = united_app['BASEMENTAREA_AVG']\n",
        "for i in range(len(base_area)):\n",
        "  if np.isnan(base_area[i]):\n",
        "    pass\n",
        "  else:\n",
        "    if base_area[i] < 0.02:\n",
        "      base_area[i] = 'no_basearea'\n",
        "    elif 0.02 <= base_area[i] < 0.1:\n",
        "      base_area[i] = 'has_basearea'\n",
        "    elif base_area[i] >= 0.1:\n",
        "      base_area[i] = 'has_alotof_basearea'\n",
        "\n",
        "nonliv_area = united_app['NONLIVINGAREA_AVG']\n",
        "for i in range(len(nonliv_area)):\n",
        "  if np.isnan(nonliv_area[i]):\n",
        "    pass\n",
        "  else:\n",
        "    if nonliv_area[i] < 0.02:\n",
        "      nonliv_area[i] = 'no_nonliv'\n",
        "    elif nonliv_area[i] >= 0.02:\n",
        "      nonliv_area[i] = 'yes_nonliv'\n",
        "\n",
        "elevators = united_app['ELEVATORS_AVG']\n",
        "for i in range(len(elevators)):\n",
        "  if np.isnan(elevators[i]):\n",
        "    pass\n",
        "  else:\n",
        "    if elevators[i] < 0.02:\n",
        "      elevators[i] = 'no_elevators'\n",
        "    elif 0.02 <= elevators[i] < 0.1:\n",
        "      elevators[i] = 'few_elevators'\n",
        "    elif elevators[i] >= 0.1:\n",
        "      elevators[i] = 'has_alotof_elevators'\n",
        "\n",
        "apartaments = united_app['APARTMENTS_AVG']\n",
        "for i in range(len(apartaments)):\n",
        "  if np.isnan(apartaments[i]):\n",
        "    pass\n",
        "  else:\n",
        "    if apartaments[i] < 0.02:\n",
        "      apartaments[i] = 'no_apartaments'\n",
        "    elif 0.02 <= apartaments[i] < 0.06:\n",
        "      apartaments[i] = 'few_apartaments'\n",
        "    elif 0.06 <= apartaments[i] < 0.15:\n",
        "      apartaments[i] = 'alot_apartaments'\n",
        "    elif apartaments[i] >= 0.15:\n",
        "      apartaments[i] = 'much_apartaments'\n",
        "\n",
        "entrances = united_app['ENTRANCES_AVG']\n",
        "for i in range(len(entrances)):\n",
        "  if np.isnan(entrances[i]):\n",
        "    pass\n",
        "  else:\n",
        "    if entrances[i] < 0.1:\n",
        "      entrances[i] = 'few_entrances'\n",
        "    elif entrances[i] >= 0.1:\n",
        "      entrances[i] = 'much_entrances'\n",
        "\n",
        "living_area = united_app['LIVINGAREA_AVG']\n",
        "for i in range(len(living_area)):\n",
        "  if np.isnan(living_area[i]):\n",
        "    pass\n",
        "  else:\n",
        "    if living_area[i] < 0.02:\n",
        "      living_area[i] = 'no_living'\n",
        "    elif 0.02 <= living_area[i] < 0.06:\n",
        "      living_area[i] = 'few_living'\n",
        "    elif 0.06 <= living_area[i] < 0.15:\n",
        "      living_area[i] = 'alot_living'\n",
        "    elif living_area[i] >= 0.15:\n",
        "      living_area[i] = 'much_living'\n",
        "\n",
        "floors = united_app['FLOORSMAX_AVG']\n",
        "for i in range(len(floors)):\n",
        "  if np.isnan(floors[i]):\n",
        "    pass\n",
        "  else:\n",
        "    if floors[i] < 0.2:\n",
        "      floors[i] = 'few_floors'\n",
        "    elif 0.2 <= floors[i] < 0.35:\n",
        "      floors[i] = 'avg_floors'\n",
        "    else:\n",
        "      floors[i] = 'much_floors'\n",
        "\n",
        "total_area = united_app['TOTALAREA_MODE']\n",
        "for i in range(len(total_area)):\n",
        "  if np.isnan(total_area[i]):\n",
        "    pass\n",
        "  else:\n",
        "    if total_area[i] < 0.02:\n",
        "      total_area[i] = 'no_area'\n",
        "    elif 0.02 <= total_area[i] < 0.1:\n",
        "      total_area[i] = 'few_area'\n",
        "    elif 0.1 <= total_area[i] < 0.2:\n",
        "      total_area[i] = 'more_area'\n",
        "    elif 0.2 <= total_area[i] < 0.3:\n",
        "      total_area[i] = 'much_area'\n",
        "    else:\n",
        "      total_area[i] = 'huge_area'\n",
        "\n",
        "fill_cat_features_with_random_value(united_app, ['LANDAREA_AVG', 'BASEMENTAREA_AVG', 'NONLIVINGAREA_AVG', 'ELEVATORS_AVG', 'APARTMENTS_AVG',\n",
        "                                                 'ENTRANCES_AVG', 'LIVINGAREA_AVG', 'FLOORSMAX_AVG', 'TOTALAREA_MODE'])"
      ],
      "execution_count": null,
      "outputs": []
    },
    {
      "cell_type": "code",
      "metadata": {
        "id": "9ObzguMq1OvF"
      },
      "source": [
        "united_app_no_nans = pd.read_csv('united_app_without_nans.csv')"
      ],
      "execution_count": null,
      "outputs": []
    },
    {
      "cell_type": "code",
      "metadata": {
        "id": "-eJ--rOEPrL0"
      },
      "source": [
        "# удалим выбросы, некоторые фичи\n",
        "united_app_no_nans.loc[united_app_no_nans['DAYS_EMPLOYED'] > 350000, ['DAYS_EMPLOYED']] = united_app_no_nans['DAYS_EMPLOYED'].median()\n",
        "united_app_no_nans.drop(['REG_REGION_NOT_LIVE_REGION', 'REG_REGION_NOT_WORK_REGION', 'LIVE_REGION_NOT_WORK_REGION', \n",
        "                         'REG_CITY_NOT_LIVE_CITY', 'FLAG_DOCUMENT_2', 'FLAG_DOCUMENT_4','FLAG_DOCUMENT_7', \n",
        "                         'FLAG_DOCUMENT_9', 'FLAG_DOCUMENT_10', 'FLAG_DOCUMENT_11', 'FLAG_DOCUMENT_12', 'FLAG_DOCUMENT_13', \n",
        "                         'FLAG_DOCUMENT_14', 'FLAG_DOCUMENT_15', 'FLAG_DOCUMENT_16', 'FLAG_DOCUMENT_17', 'FLAG_DOCUMENT_19',\n",
        "                         'FLAG_DOCUMENT_20', 'FLAG_DOCUMENT_21'], axis=1, inplace=True)"
      ],
      "execution_count": null,
      "outputs": []
    },
    {
      "cell_type": "code",
      "metadata": {
        "id": "tNSGl_TjVHKU"
      },
      "source": [
        "united_app_no_nans.drop(['FLAG_MOBIL', 'FLAG_CONT_MOBILE'], axis=1, inplace=True)"
      ],
      "execution_count": null,
      "outputs": []
    },
    {
      "cell_type": "code",
      "metadata": {
        "id": "-fOyKYa1Okph"
      },
      "source": [
        "from sklearn.preprocessing import StandardScaler, LabelEncoder, MinMaxScaler"
      ],
      "execution_count": null,
      "outputs": []
    },
    {
      "cell_type": "code",
      "metadata": {
        "id": "0yM7b7cDN9Al"
      },
      "source": [
        "cat_features = ['NAME_CONTRACT_TYPE', 'CODE_GENDER', 'FLAG_OWN_CAR', 'FLAG_OWN_REALTY', 'NAME_TYPE_SUITE', 'NAME_INCOME_TYPE', 'NAME_EDUCATION_TYPE', \n",
        "                'NAME_FAMILY_STATUS', 'NAME_HOUSING_TYPE','OWN_CAR_AGE',  'OCCUPATION_TYPE', 'WEEKDAY_APPR_PROCESS_START', 'ORGANIZATION_TYPE',\n",
        "                'APARTMENTS_AVG', 'BASEMENTAREA_AVG', 'ELEVATORS_AVG', 'ENTRANCES_AVG', 'FLOORSMAX_AVG', 'LANDAREA_AVG', 'LIVINGAREA_AVG', \n",
        "                'NONLIVINGAREA_AVG', 'FONDKAPREMONT_MODE', 'HOUSETYPE_MODE', 'WALLSMATERIAL_MODE', 'TOTALAREA_MODE', 'EMERGENCYSTATE_MODE']\n",
        "\n",
        "features_minmax_scaled = ['CNT_CHILDREN', 'AMT_INCOME_TOTAL', 'AMT_CREDIT', 'AMT_ANNUITY', 'AMT_GOODS_PRICE', 'DAYS_EMPLOYED', 'DAYS_REGISTRATION', \n",
        "                         'DAYS_ID_PUBLISH', 'DAYS_BIRTH', 'DAYS_EMPLOYED', 'DAYS_REGISTRATION', 'DAYS_ID_PUBLISH', 'CNT_FAM_MEMBERS', \n",
        "                         'DAYS_LAST_PHONE_CHANGE', 'EXT_SOURCE_2']\n",
        "\n",
        "features_standard_scaled = ['DAYS_BIRTH', 'HOUR_APPR_PROCESS_START']"
      ],
      "execution_count": null,
      "outputs": []
    },
    {
      "cell_type": "code",
      "metadata": {
        "id": "pgO5bHwNWt4n"
      },
      "source": [
        "# закодируем категориальные признаки\n",
        "# отмасштабируем числовые\n",
        "for c in cat_features:\n",
        "    lbl = LabelEncoder() \n",
        "    lbl.fit(list(united_app_no_nans[c].values)) \n",
        "    united_app_no_nans[c] = lbl.transform(list(united_app_no_nans[c].values))\n",
        "    \n",
        "for c in features_minmax_scaled:\n",
        "    scaler = MinMaxScaler()\n",
        "    scaler.fit(united_app_no_nans[c].values.reshape(-1, 1)) \n",
        "    united_app_no_nans[c] = scaler.transform(united_app_no_nans[c].values.reshape(-1, 1))\n",
        "\n",
        "for c in features_standard_scaled:\n",
        "    scaler = StandardScaler()\n",
        "    scaler.fit(united_app_no_nans[c].values.reshape(-1, 1)) \n",
        "    united_app_no_nans[c] = scaler.transform(united_app_no_nans[c].values.reshape(-1, 1))"
      ],
      "execution_count": null,
      "outputs": []
    },
    {
      "cell_type": "code",
      "metadata": {
        "id": "XMwOXTahXiVd"
      },
      "source": [
        "united_app_no_nans.to_csv('united_norm_encoded.csv', index=False)"
      ],
      "execution_count": null,
      "outputs": []
    }
  ]
}